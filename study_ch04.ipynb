{
 "cells": [
  {
   "attachments": {},
   "cell_type": "markdown",
   "metadata": {},
   "source": [
    "# CH04 딥러닝 시작"
   ]
  },
  {
   "attachments": {},
   "cell_type": "markdown",
   "metadata": {},
   "source": [
    "# 4.1 인공신경망의 한께와 딥러닝 출현"
   ]
  },
  {
   "attachments": {},
   "cell_type": "markdown",
   "metadata": {},
   "source": [
    "비선형적으로 분리되는 데이터에 대해 학습이 가능하도록 다층 퍼셉트론 고안"
   ]
  },
  {
   "attachments": {},
   "cell_type": "markdown",
   "metadata": {},
   "source": [
    "# 4.2 딥러닝 구조"
   ]
  },
  {
   "attachments": {},
   "cell_type": "markdown",
   "metadata": {},
   "source": [
    "# 4.2.1 딥러닝 용어"
   ]
  },
  {
   "attachments": {},
   "cell_type": "markdown",
   "metadata": {},
   "source": [
    "layers -> input layer, hidden layer, output layer <br>\n",
    "weight: 노드 간 연결 강도 <br>\n",
    "bias: 가중합에 더해주는 상수 -> 활성화 함수를 거쳐 최종적으로 출력되는 값을 조절하는 역할 <br>\n",
    "activation function: 신호 입력받아 적절히 처리해 출력하는 함수\n",
    "loss function: loss"
   ]
  },
  {
   "attachments": {},
   "cell_type": "markdown",
   "metadata": {},
   "source": [
    "### 활성화 함수"
   ]
  },
  {
   "attachments": {},
   "cell_type": "markdown",
   "metadata": {},
   "source": [
    "1. sigmoid function -> gradient vanishing problem <br>\n",
    "2. tanh -> gradient vanishing problem <br>\n",
    "3. ReLU -> gradient vanishing 발생 X, 음수값에 대해 학습 능력 감소<br>\n",
    "4. Leaky ReLU -> 음수값에서 ReLU 사용 시 생기는 문제 해결 가능\n",
    "5. softmax -> 입력값 0~1사이 출력되도록 정규화, 출력 노드 activation function으로 사용"
   ]
  },
  {
   "attachments": {},
   "cell_type": "markdown",
   "metadata": {},
   "source": [
    "### 손실 함수"
   ]
  },
  {
   "attachments": {},
   "cell_type": "markdown",
   "metadata": {},
   "source": [
    "1. MSE: 회귀에서 주로 사용\n",
    "2. CEE: 분류에서 one-hot encoding 했을 때 사용"
   ]
  },
  {
   "attachments": {},
   "cell_type": "markdown",
   "metadata": {},
   "source": [
    "# 4.2.2 딥러닝 학습"
   ]
  },
  {
   "attachments": {},
   "cell_type": "markdown",
   "metadata": {},
   "source": [
    "1. feedforward(순전파)\n",
    "2. backpropagation(역전파)"
   ]
  },
  {
   "attachments": {},
   "cell_type": "markdown",
   "metadata": {},
   "source": [
    "# 4.2.3 딥러닝 문제점과 해결 방안"
   ]
  },
  {
   "attachments": {},
   "cell_type": "markdown",
   "metadata": {},
   "source": [
    "### 과적합 문제 발생"
   ]
  },
  {
   "attachments": {},
   "cell_type": "markdown",
   "metadata": {},
   "source": [
    "훈련 데이터 과하게 학습하여 실제 데이터에 대해 오차 증가 <br>\n",
    "해결방법 -> Dropout: 학습 과정 중 일부 노드 학습에서 제외"
   ]
  },
  {
   "attachments": {},
   "cell_type": "markdown",
   "metadata": {},
   "source": [
    "### Gradient vanishing problem"
   ]
  },
  {
   "attachments": {},
   "cell_type": "markdown",
   "metadata": {},
   "source": [
    "hidden layer 많아지면 오차가 크게 줄어 gradient vanishing이 발생 -> 수렴 <br>\n",
    "해결방법 -> activation function으로 ReLU 이용"
   ]
  },
  {
   "attachments": {},
   "cell_type": "markdown",
   "metadata": {},
   "source": [
    "### 성능 나빠지는 문제"
   ]
  },
  {
   "attachments": {},
   "cell_type": "markdown",
   "metadata": {},
   "source": [
    "경사하강법에서 문제 발생 <br>\n",
    "해결방법: SGD(확률적 경사하강법), BGD(미니배치 경사하강법) <br>\n",
    "SGD: 빠른 계산 가능 but 불안정 <br>\n",
    "BGD: 빠른 계산 가능 + SGD보다 안정"
   ]
  },
  {
   "attachments": {},
   "cell_type": "markdown",
   "metadata": {},
   "source": [
    "### optimizer"
   ]
  },
  {
   "attachments": {},
   "cell_type": "markdown",
   "metadata": {},
   "source": [
    "SGD 사용 시 불안정한 문제 해결 -> lr 조절 <br>\n",
    "1. 속도 개선 <br>\n",
    "- Adagrad: 가본 곳은 더 정밀하게, 안 가 본 곳은 대충 <br>\n",
    "- Adadelta: 계속 정밀하게 X -> 어느 선에서 끊어줌 <br>\n",
    "- RMSProp: 가본 곳은 더 정밀하게 + 기울기 다시 계산 -> 속도 조절 <br>\n",
    "2. 운동량 개선 <br>\n",
    "- Momentum: 진짜 길 같은 곳으로만 이동 <br>\n",
    "- Nesterov Momentum: Momentum + gradient calculating <br>\n",
    "<br>\n",
    "돌고 돌아 Adam: 가장 보편적, 성능 우수(1, 2 혼합) <br>\n",
    "개선 버전이 AdamW 등 많은 optimizer 존재 <br>"
   ]
  },
  {
   "attachments": {},
   "cell_type": "markdown",
   "metadata": {},
   "source": [
    "# 4.2.4 딥러닝 사용 시 이점"
   ]
  },
  {
   "attachments": {},
   "cell_type": "markdown",
   "metadata": {},
   "source": [
    "### 특성 추출"
   ]
  },
  {
   "attachments": {},
   "cell_type": "markdown",
   "metadata": {},
   "source": [
    "특성추출 과정을 알고리즘에 통합 -> 머신러닝과 큰 차이점"
   ]
  },
  {
   "attachments": {},
   "cell_type": "markdown",
   "metadata": {},
   "source": [
    "### 빅데이터의 효율적 이용"
   ]
  },
  {
   "attachments": {},
   "cell_type": "markdown",
   "metadata": {},
   "source": [
    "데이터 많읈수록 성능 향상"
   ]
  },
  {
   "attachments": {},
   "cell_type": "markdown",
   "metadata": {},
   "source": [
    "# 4.3 딥러닝 알고리즘"
   ]
  },
  {
   "attachments": {},
   "cell_type": "markdown",
   "metadata": {},
   "source": [
    "# 4.3.1 DNN"
   ]
  },
  {
   "attachments": {},
   "cell_type": "markdown",
   "metadata": {},
   "source": [
    "가장 기본적인 형태의 인공신경망(hidden layer)"
   ]
  },
  {
   "attachments": {},
   "cell_type": "markdown",
   "metadata": {},
   "source": [
    "# 4.3.2 CNN"
   ]
  },
  {
   "attachments": {},
   "cell_type": "markdown",
   "metadata": {},
   "source": [
    "이미지에서 객체, 얼굴, 장면 인식을 위한 패턴찾기에 유리"
   ]
  },
  {
   "attachments": {},
   "cell_type": "markdown",
   "metadata": {},
   "source": [
    "# 4.3.3 RNN"
   ]
  },
  {
   "attachments": {},
   "cell_type": "markdown",
   "metadata": {},
   "source": [
    "시계열 데이터 분석에 유리 -> 자연어 처리 분야에도 이용, gradient vanishing 해결 위해 LSTM, GRU 등 이용"
   ]
  },
  {
   "attachments": {},
   "cell_type": "markdown",
   "metadata": {},
   "source": [
    "# 4.3.4 RBM"
   ]
  },
  {
   "attachments": {},
   "cell_type": "markdown",
   "metadata": {},
   "source": [
    "# 4.3.5 DBN"
   ]
  },
  {
   "attachments": {},
   "cell_type": "markdown",
   "metadata": {},
   "source": [
    "RBM 여러 층 쌓은 신경망, 비지도 학습, 위로 올라갈수록 추상적 특성 추출"
   ]
  }
 ],
 "metadata": {
  "kernelspec": {
   "display_name": "base",
   "language": "python",
   "name": "python3"
  },
  "language_info": {
   "name": "python",
   "version": "3.9.13 (main, Aug 25 2022, 23:26:10) \n[GCC 11.2.0]"
  },
  "orig_nbformat": 4,
  "vscode": {
   "interpreter": {
    "hash": "95d6e5a8090f7b4074b6df6b538a06aad4dbedfdca9cc385ca528be763f41bf0"
   }
  }
 },
 "nbformat": 4,
 "nbformat_minor": 2
}
